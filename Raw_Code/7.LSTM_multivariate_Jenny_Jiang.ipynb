{
  "nbformat": 4,
  "nbformat_minor": 0,
  "metadata": {
    "colab": {
      "name": "LSTM_Multivariate_Thailand_Tourism_jejiang.ipynb",
      "provenance": []
    },
    "kernelspec": {
      "name": "python3",
      "display_name": "Python 3"
    },
    "language_info": {
      "name": "python"
    }
  },
  "cells": [
    {
      "cell_type": "code",
      "metadata": {
        "id": "8_-WDGKbYskO"
      },
      "source": [
        "import numpy as np\n",
        "import pandas as pd\n",
        "import matplotlib.pyplot as plt\n",
        "\n",
        "from sklearn.preprocessing import MinMaxScaler\n",
        "from keras.preprocessing.sequence import TimeseriesGenerator\n",
        "from keras.models import Sequential\n",
        "from keras.layers import Dense\n",
        "from keras.layers import LSTM\n",
        "from keras.layers import Dropout\n",
        "from sklearn.metrics import mean_squared_error\n",
        "from keras.metrics import mean_absolute_percentage_error"
      ],
      "execution_count": null,
      "outputs": []
    },
    {
      "cell_type": "code",
      "metadata": {
        "colab": {
          "base_uri": "https://localhost:8080/"
        },
        "id": "ErBU_4CcYw7u",
        "outputId": "4aa81258-5067-4d11-9a53-47827e6e2d60"
      },
      "source": [
        "from google.colab import drive\n",
        "drive.mount('/content/drive')"
      ],
      "execution_count": null,
      "outputs": [
        {
          "output_type": "stream",
          "text": [
            "Drive already mounted at /content/drive; to attempt to forcibly remount, call drive.mount(\"/content/drive\", force_remount=True).\n"
          ],
          "name": "stdout"
        }
      ]
    },
    {
      "cell_type": "code",
      "metadata": {
        "colab": {
          "base_uri": "https://localhost:8080/",
          "height": 225
        },
        "id": "JUwHORROYw4e",
        "outputId": "5ff306e5-7ef6-4e90-e4d2-43914ebd86dc"
      },
      "source": [
        "# Load data\n",
        "df = pd.read_csv('/content/drive/MyDrive/31006-ts/Data/thaitourism2.csv')\n",
        "df.head()"
      ],
      "execution_count": null,
      "outputs": [
        {
          "output_type": "execute_result",
          "data": {
            "text/html": [
              "<div>\n",
              "<style scoped>\n",
              "    .dataframe tbody tr th:only-of-type {\n",
              "        vertical-align: middle;\n",
              "    }\n",
              "\n",
              "    .dataframe tbody tr th {\n",
              "        vertical-align: top;\n",
              "    }\n",
              "\n",
              "    .dataframe thead th {\n",
              "        text-align: right;\n",
              "    }\n",
              "</style>\n",
              "<table border=\"1\" class=\"dataframe\">\n",
              "  <thead>\n",
              "    <tr style=\"text-align: right;\">\n",
              "      <th></th>\n",
              "      <th>region</th>\n",
              "      <th>nationality</th>\n",
              "      <th>year</th>\n",
              "      <th>month</th>\n",
              "      <th>tourists</th>\n",
              "    </tr>\n",
              "  </thead>\n",
              "  <tbody>\n",
              "    <tr>\n",
              "      <th>0</th>\n",
              "      <td>Africa</td>\n",
              "      <td>AfrOthers</td>\n",
              "      <td>2010</td>\n",
              "      <td>1</td>\n",
              "      <td>6553</td>\n",
              "    </tr>\n",
              "    <tr>\n",
              "      <th>1</th>\n",
              "      <td>Africa</td>\n",
              "      <td>AfrOthers</td>\n",
              "      <td>2010</td>\n",
              "      <td>2</td>\n",
              "      <td>5618</td>\n",
              "    </tr>\n",
              "    <tr>\n",
              "      <th>2</th>\n",
              "      <td>Africa</td>\n",
              "      <td>AfrOthers</td>\n",
              "      <td>2010</td>\n",
              "      <td>3</td>\n",
              "      <td>6689</td>\n",
              "    </tr>\n",
              "    <tr>\n",
              "      <th>3</th>\n",
              "      <td>Africa</td>\n",
              "      <td>AfrOthers</td>\n",
              "      <td>2010</td>\n",
              "      <td>4</td>\n",
              "      <td>5210</td>\n",
              "    </tr>\n",
              "    <tr>\n",
              "      <th>4</th>\n",
              "      <td>Africa</td>\n",
              "      <td>AfrOthers</td>\n",
              "      <td>2010</td>\n",
              "      <td>5</td>\n",
              "      <td>4537</td>\n",
              "    </tr>\n",
              "  </tbody>\n",
              "</table>\n",
              "</div>"
            ],
            "text/plain": [
              "   region nationality  year  month  tourists\n",
              "0  Africa   AfrOthers  2010      1      6553\n",
              "1  Africa   AfrOthers  2010      2      5618\n",
              "2  Africa   AfrOthers  2010      3      6689\n",
              "3  Africa   AfrOthers  2010      4      5210\n",
              "4  Africa   AfrOthers  2010      5      4537"
            ]
          },
          "metadata": {
            "tags": []
          },
          "execution_count": 3
        }
      ]
    },
    {
      "cell_type": "code",
      "metadata": {
        "colab": {
          "base_uri": "https://localhost:8080/",
          "height": 329
        },
        "id": "07WblwsbZ_4J",
        "outputId": "173f846f-d75a-44ad-f851-5c8d1243a79a"
      },
      "source": [
        "# Load supplementary data\n",
        "df_s = pd.read_excel('/content/drive/MyDrive/31006-ts/Data/currency_and_temperature_data.xlsx')\n",
        "df_s.head()"
      ],
      "execution_count": null,
      "outputs": [
        {
          "output_type": "execute_result",
          "data": {
            "text/html": [
              "<div>\n",
              "<style scoped>\n",
              "    .dataframe tbody tr th:only-of-type {\n",
              "        vertical-align: middle;\n",
              "    }\n",
              "\n",
              "    .dataframe tbody tr th {\n",
              "        vertical-align: top;\n",
              "    }\n",
              "\n",
              "    .dataframe thead th {\n",
              "        text-align: right;\n",
              "    }\n",
              "</style>\n",
              "<table border=\"1\" class=\"dataframe\">\n",
              "  <thead>\n",
              "    <tr style=\"text-align: right;\">\n",
              "      <th></th>\n",
              "      <th>year</th>\n",
              "      <th>month</th>\n",
              "      <th>average exchange rate (Convert 1 USD to Thai baht)</th>\n",
              "      <th>average temperature - Bangkok (F)</th>\n",
              "    </tr>\n",
              "  </thead>\n",
              "  <tbody>\n",
              "    <tr>\n",
              "      <th>0</th>\n",
              "      <td>2010</td>\n",
              "      <td>1</td>\n",
              "      <td>33.1110</td>\n",
              "      <td>80.79</td>\n",
              "    </tr>\n",
              "    <tr>\n",
              "      <th>1</th>\n",
              "      <td>2010</td>\n",
              "      <td>2</td>\n",
              "      <td>33.1497</td>\n",
              "      <td>84.70</td>\n",
              "    </tr>\n",
              "    <tr>\n",
              "      <th>2</th>\n",
              "      <td>2010</td>\n",
              "      <td>3</td>\n",
              "      <td>32.5115</td>\n",
              "      <td>85.98</td>\n",
              "    </tr>\n",
              "    <tr>\n",
              "      <th>3</th>\n",
              "      <td>2010</td>\n",
              "      <td>4</td>\n",
              "      <td>32.2977</td>\n",
              "      <td>88.35</td>\n",
              "    </tr>\n",
              "    <tr>\n",
              "      <th>4</th>\n",
              "      <td>2010</td>\n",
              "      <td>5</td>\n",
              "      <td>32.4197</td>\n",
              "      <td>87.41</td>\n",
              "    </tr>\n",
              "  </tbody>\n",
              "</table>\n",
              "</div>"
            ],
            "text/plain": [
              "   year  ...  average temperature - Bangkok (F)\n",
              "0  2010  ...                              80.79\n",
              "1  2010  ...                              84.70\n",
              "2  2010  ...                              85.98\n",
              "3  2010  ...                              88.35\n",
              "4  2010  ...                              87.41\n",
              "\n",
              "[5 rows x 4 columns]"
            ]
          },
          "metadata": {
            "tags": []
          },
          "execution_count": 4
        }
      ]
    },
    {
      "cell_type": "code",
      "metadata": {
        "colab": {
          "base_uri": "https://localhost:8080/"
        },
        "id": "tfF-N4r2bMUi",
        "outputId": "1ffd08f4-c91f-4628-98ec-7f7a430a6545"
      },
      "source": [
        "df_s.isna().any()"
      ],
      "execution_count": null,
      "outputs": [
        {
          "output_type": "execute_result",
          "data": {
            "text/plain": [
              "year                                                  False\n",
              "month                                                 False\n",
              "average exchange rate (Convert 1 USD to Thai baht)    False\n",
              "average temperature - Bangkok (F)                     False\n",
              "dtype: bool"
            ]
          },
          "metadata": {
            "tags": []
          },
          "execution_count": 5
        }
      ]
    },
    {
      "cell_type": "code",
      "metadata": {
        "colab": {
          "base_uri": "https://localhost:8080/",
          "height": 237
        },
        "id": "4atQ-FRWYw16",
        "outputId": "936ac93b-c759-41e6-981e-e62b4052c3cf"
      },
      "source": [
        "# Set date as the index of the data frame\n",
        "df['Month'] = pd.to_datetime(df.year.astype(str) + '/' + df.month.astype(str))\n",
        "df = df.set_index('Month')\n",
        "df_us = df[df.nationality == 'USA']\n",
        "df_us.head()"
      ],
      "execution_count": null,
      "outputs": [
        {
          "output_type": "execute_result",
          "data": {
            "text/html": [
              "<div>\n",
              "<style scoped>\n",
              "    .dataframe tbody tr th:only-of-type {\n",
              "        vertical-align: middle;\n",
              "    }\n",
              "\n",
              "    .dataframe tbody tr th {\n",
              "        vertical-align: top;\n",
              "    }\n",
              "\n",
              "    .dataframe thead th {\n",
              "        text-align: right;\n",
              "    }\n",
              "</style>\n",
              "<table border=\"1\" class=\"dataframe\">\n",
              "  <thead>\n",
              "    <tr style=\"text-align: right;\">\n",
              "      <th></th>\n",
              "      <th>region</th>\n",
              "      <th>nationality</th>\n",
              "      <th>year</th>\n",
              "      <th>month</th>\n",
              "      <th>tourists</th>\n",
              "    </tr>\n",
              "    <tr>\n",
              "      <th>Month</th>\n",
              "      <th></th>\n",
              "      <th></th>\n",
              "      <th></th>\n",
              "      <th></th>\n",
              "      <th></th>\n",
              "    </tr>\n",
              "  </thead>\n",
              "  <tbody>\n",
              "    <tr>\n",
              "      <th>2010-01-01</th>\n",
              "      <td>Americas</td>\n",
              "      <td>USA</td>\n",
              "      <td>2010</td>\n",
              "      <td>1</td>\n",
              "      <td>69238</td>\n",
              "    </tr>\n",
              "    <tr>\n",
              "      <th>2010-02-01</th>\n",
              "      <td>Americas</td>\n",
              "      <td>USA</td>\n",
              "      <td>2010</td>\n",
              "      <td>2</td>\n",
              "      <td>58901</td>\n",
              "    </tr>\n",
              "    <tr>\n",
              "      <th>2010-03-01</th>\n",
              "      <td>Americas</td>\n",
              "      <td>USA</td>\n",
              "      <td>2010</td>\n",
              "      <td>3</td>\n",
              "      <td>59667</td>\n",
              "    </tr>\n",
              "    <tr>\n",
              "      <th>2010-04-01</th>\n",
              "      <td>Americas</td>\n",
              "      <td>USA</td>\n",
              "      <td>2010</td>\n",
              "      <td>4</td>\n",
              "      <td>49775</td>\n",
              "    </tr>\n",
              "    <tr>\n",
              "      <th>2010-05-01</th>\n",
              "      <td>Americas</td>\n",
              "      <td>USA</td>\n",
              "      <td>2010</td>\n",
              "      <td>5</td>\n",
              "      <td>34061</td>\n",
              "    </tr>\n",
              "  </tbody>\n",
              "</table>\n",
              "</div>"
            ],
            "text/plain": [
              "              region nationality  year  month  tourists\n",
              "Month                                                  \n",
              "2010-01-01  Americas         USA  2010      1     69238\n",
              "2010-02-01  Americas         USA  2010      2     58901\n",
              "2010-03-01  Americas         USA  2010      3     59667\n",
              "2010-04-01  Americas         USA  2010      4     49775\n",
              "2010-05-01  Americas         USA  2010      5     34061"
            ]
          },
          "metadata": {
            "tags": []
          },
          "execution_count": 6
        }
      ]
    },
    {
      "cell_type": "code",
      "metadata": {
        "colab": {
          "base_uri": "https://localhost:8080/",
          "height": 350
        },
        "id": "3LthcL1sYwy6",
        "outputId": "728c7172-6981-485b-de8d-f087a04af309"
      },
      "source": [
        "# Convert index to Datetime Index and plot the time series data\n",
        "df_us.index.freq = 'MS'\n",
        "ax = df_us['tourists'].plot(figsize = (16,5), title = \"Number of USA Tourists Visiting Thailand per month\")\n",
        "ax.set(xlabel='Dates', ylabel='Number of Tourists');"
      ],
      "execution_count": null,
      "outputs": [
        {
          "output_type": "display_data",
          "data": {
            "image/png": "[encoded data removed]",
            "text/plain": [
              "<Figure size 1152x360 with 1 Axes>"
            ]
          },
          "metadata": {
            "tags": [],
            "needs_background": "light"
          }
        }
      ]
    },
    {
      "cell_type": "code",
      "metadata": {
        "colab": {
          "base_uri": "https://localhost:8080/"
        },
        "id": "-EEc_cfzYwwi",
        "outputId": "80c902b8-0f9e-495d-b8e8-606d8be3fbf5"
      },
      "source": [
        "df_sub = df_us[['tourists']]\n",
        "df_sub.shape"
      ],
      "execution_count": null,
      "outputs": [
        {
          "output_type": "execute_result",
          "data": {
            "text/plain": [
              "(84, 1)"
            ]
          },
          "metadata": {
            "tags": []
          },
          "execution_count": 8
        }
      ]
    },
    {
      "cell_type": "code",
      "metadata": {
        "colab": {
          "base_uri": "https://localhost:8080/",
          "height": 237
        },
        "id": "BkjEdzRtsEBx",
        "outputId": "e9829c59-33c5-4a6c-c793-aadcd6bd1338"
      },
      "source": [
        "# Set date as the index of the data frame\n",
        "df_s['Month'] = pd.to_datetime(df_s.year.astype(str) + '/' + df_s.month.astype(str))\n",
        "df_s = df_s.set_index('Month')\n",
        "df_s_sub = df_s.iloc[:, 2:4]\n",
        "df_s_sub.head()"
      ],
      "execution_count": null,
      "outputs": [
        {
          "output_type": "execute_result",
          "data": {
            "text/html": [
              "<div>\n",
              "<style scoped>\n",
              "    .dataframe tbody tr th:only-of-type {\n",
              "        vertical-align: middle;\n",
              "    }\n",
              "\n",
              "    .dataframe tbody tr th {\n",
              "        vertical-align: top;\n",
              "    }\n",
              "\n",
              "    .dataframe thead th {\n",
              "        text-align: right;\n",
              "    }\n",
              "</style>\n",
              "<table border=\"1\" class=\"dataframe\">\n",
              "  <thead>\n",
              "    <tr style=\"text-align: right;\">\n",
              "      <th></th>\n",
              "      <th>average exchange rate (Convert 1 USD to Thai baht)</th>\n",
              "      <th>average temperature - Bangkok (F)</th>\n",
              "    </tr>\n",
              "    <tr>\n",
              "      <th>Month</th>\n",
              "      <th></th>\n",
              "      <th></th>\n",
              "    </tr>\n",
              "  </thead>\n",
              "  <tbody>\n",
              "    <tr>\n",
              "      <th>2010-01-01</th>\n",
              "      <td>33.1110</td>\n",
              "      <td>80.79</td>\n",
              "    </tr>\n",
              "    <tr>\n",
              "      <th>2010-02-01</th>\n",
              "      <td>33.1497</td>\n",
              "      <td>84.70</td>\n",
              "    </tr>\n",
              "    <tr>\n",
              "      <th>2010-03-01</th>\n",
              "      <td>32.5115</td>\n",
              "      <td>85.98</td>\n",
              "    </tr>\n",
              "    <tr>\n",
              "      <th>2010-04-01</th>\n",
              "      <td>32.2977</td>\n",
              "      <td>88.35</td>\n",
              "    </tr>\n",
              "    <tr>\n",
              "      <th>2010-05-01</th>\n",
              "      <td>32.4197</td>\n",
              "      <td>87.41</td>\n",
              "    </tr>\n",
              "  </tbody>\n",
              "</table>\n",
              "</div>"
            ],
            "text/plain": [
              "            average exchange rate (Convert 1 USD to Thai baht)  average temperature - Bangkok (F)\n",
              "Month                                                                                            \n",
              "2010-01-01                                            33.1110                               80.79\n",
              "2010-02-01                                            33.1497                               84.70\n",
              "2010-03-01                                            32.5115                               85.98\n",
              "2010-04-01                                            32.2977                               88.35\n",
              "2010-05-01                                            32.4197                               87.41"
            ]
          },
          "metadata": {
            "tags": []
          },
          "execution_count": 9
        }
      ]
    },
    {
      "cell_type": "code",
      "metadata": {
        "colab": {
          "base_uri": "https://localhost:8080/",
          "height": 237
        },
        "id": "O0eFeBLIYwi6",
        "outputId": "2654d33a-800c-4b7a-a6f8-63e4b006f269"
      },
      "source": [
        "df_new = df_sub.merge(df_s_sub, how = 'inner', left_index=True, right_index=True)\n",
        "df_new.head()"
      ],
      "execution_count": null,
      "outputs": [
        {
          "output_type": "execute_result",
          "data": {
            "text/html": [
              "<div>\n",
              "<style scoped>\n",
              "    .dataframe tbody tr th:only-of-type {\n",
              "        vertical-align: middle;\n",
              "    }\n",
              "\n",
              "    .dataframe tbody tr th {\n",
              "        vertical-align: top;\n",
              "    }\n",
              "\n",
              "    .dataframe thead th {\n",
              "        text-align: right;\n",
              "    }\n",
              "</style>\n",
              "<table border=\"1\" class=\"dataframe\">\n",
              "  <thead>\n",
              "    <tr style=\"text-align: right;\">\n",
              "      <th></th>\n",
              "      <th>tourists</th>\n",
              "      <th>average exchange rate (Convert 1 USD to Thai baht)</th>\n",
              "      <th>average temperature - Bangkok (F)</th>\n",
              "    </tr>\n",
              "    <tr>\n",
              "      <th>Month</th>\n",
              "      <th></th>\n",
              "      <th></th>\n",
              "      <th></th>\n",
              "    </tr>\n",
              "  </thead>\n",
              "  <tbody>\n",
              "    <tr>\n",
              "      <th>2010-01-01</th>\n",
              "      <td>69238</td>\n",
              "      <td>33.1110</td>\n",
              "      <td>80.79</td>\n",
              "    </tr>\n",
              "    <tr>\n",
              "      <th>2010-02-01</th>\n",
              "      <td>58901</td>\n",
              "      <td>33.1497</td>\n",
              "      <td>84.70</td>\n",
              "    </tr>\n",
              "    <tr>\n",
              "      <th>2010-03-01</th>\n",
              "      <td>59667</td>\n",
              "      <td>32.5115</td>\n",
              "      <td>85.98</td>\n",
              "    </tr>\n",
              "    <tr>\n",
              "      <th>2010-04-01</th>\n",
              "      <td>49775</td>\n",
              "      <td>32.2977</td>\n",
              "      <td>88.35</td>\n",
              "    </tr>\n",
              "    <tr>\n",
              "      <th>2010-05-01</th>\n",
              "      <td>34061</td>\n",
              "      <td>32.4197</td>\n",
              "      <td>87.41</td>\n",
              "    </tr>\n",
              "  </tbody>\n",
              "</table>\n",
              "</div>"
            ],
            "text/plain": [
              "            tourists  ...  average temperature - Bangkok (F)\n",
              "Month                 ...                                   \n",
              "2010-01-01     69238  ...                              80.79\n",
              "2010-02-01     58901  ...                              84.70\n",
              "2010-03-01     59667  ...                              85.98\n",
              "2010-04-01     49775  ...                              88.35\n",
              "2010-05-01     34061  ...                              87.41\n",
              "\n",
              "[5 rows x 3 columns]"
            ]
          },
          "metadata": {
            "tags": []
          },
          "execution_count": 10
        }
      ]
    },
    {
      "cell_type": "code",
      "metadata": {
        "id": "CRZpdtiXYwfx"
      },
      "source": [
        "# train and test split\n",
        "train = df_new[:len(df_new)-12].copy()\n",
        "test = df_new[len(df_new)-12:].copy()"
      ],
      "execution_count": null,
      "outputs": []
    },
    {
      "cell_type": "code",
      "metadata": {
        "colab": {
          "base_uri": "https://localhost:8080/"
        },
        "id": "4Nc9uWPCYwdN",
        "outputId": "082cc33c-80ee-42c9-ea36-e0443fdcc1d1"
      },
      "source": [
        "# Normalize the data\n",
        "scaler = MinMaxScaler()\n",
        "\n",
        "scaler.fit(train)\n",
        "scaled_train = scaler.transform(train)\n",
        "scaled_test = scaler.transform(test)\n",
        "\n",
        "scaled_train.shape"
      ],
      "execution_count": null,
      "outputs": [
        {
          "output_type": "execute_result",
          "data": {
            "text/plain": [
              "(72, 3)"
            ]
          },
          "metadata": {
            "tags": []
          },
          "execution_count": 12
        }
      ]
    },
    {
      "cell_type": "code",
      "metadata": {
        "id": "rX089iuWYwak"
      },
      "source": [
        "def split_sequences(sequences, n_steps):\n",
        "\tX, y = list(), list()\n",
        "\tfor i in range(len(sequences)):\n",
        "\t\t# find the end of this pattern\n",
        "\t\tend_ix = i + n_steps\n",
        "\t\t# check if we are beyond the dataset\n",
        "\t\tif end_ix > len(sequences)-1:\n",
        "\t\t\tbreak\n",
        "\t\t# gather input and output parts of the pattern\n",
        "\t\tseq_x, seq_y = sequences[i:end_ix, :], sequences[end_ix, 0]\n",
        "\t\tX.append(seq_x)\n",
        "\t\ty.append(seq_y)\n",
        "\treturn np.array(X), np.array(y)"
      ],
      "execution_count": null,
      "outputs": []
    },
    {
      "cell_type": "code",
      "metadata": {
        "colab": {
          "base_uri": "https://localhost:8080/"
        },
        "id": "YB_HIkRA4Vwo",
        "outputId": "ee9220d7-1e3a-4d63-bc28-ea4c68da1b33"
      },
      "source": [
        "n_steps = 12\n",
        "n_features = 3\n",
        "X, y = split_sequences(scaled_train, n_steps)\n",
        "for i in range(len(X))[0:2]:\n",
        "\tprint(X[i], y[i])"
      ],
      "execution_count": null,
      "outputs": [
        {
          "output_type": "stream",
          "text": [
            "[[0.51807069 0.58207407 0.32970451]\n",
            " [0.36583211 0.58764891 0.63374806]\n",
            " [0.3771134  0.49571443 0.73328149]\n",
            " [0.23142857 0.46491595 0.91757387]\n",
            " [0.         0.48249038 0.844479  ]\n",
            " [0.07253314 0.4893617  0.75272162]\n",
            " [0.17051546 0.46611158 0.61197512]\n",
            " [0.08110457 0.38545643 0.49533437]\n",
            " [0.08182622 0.25687492 0.49766719]\n",
            " [0.259838   0.12245927 0.40124417]\n",
            " [0.35930781 0.11917487 0.42457232]\n",
            " [0.47300442 0.15232141 0.34292379]] 0.5365832106038291\n",
            "[[0.36583211 0.58764891 0.63374806]\n",
            " [0.3771134  0.49571443 0.73328149]\n",
            " [0.23142857 0.46491595 0.91757387]\n",
            " [0.         0.48249038 0.844479  ]\n",
            " [0.07253314 0.4893617  0.75272162]\n",
            " [0.17051546 0.46611158 0.61197512]\n",
            " [0.08110457 0.38545643 0.49533437]\n",
            " [0.08182622 0.25687492 0.49766719]\n",
            " [0.259838   0.12245927 0.40124417]\n",
            " [0.35930781 0.11917487 0.42457232]\n",
            " [0.47300442 0.15232141 0.34292379]\n",
            " [0.53658321 0.21433613 0.19051322]] 0.35460972017673054\n"
          ],
          "name": "stdout"
        }
      ]
    },
    {
      "cell_type": "code",
      "metadata": {
        "colab": {
          "base_uri": "https://localhost:8080/"
        },
        "id": "2HzodJkBYwXi",
        "outputId": "5cbdb9a1-c94c-4e17-b5ee-d8f914172b9f"
      },
      "source": [
        "model = Sequential()\n",
        "model.add(LSTM(50, activation = 'relu', input_shape=(n_steps, n_features), return_sequences = True))\n",
        "model.add(LSTM(50, activation = 'relu', return_sequences = False))\n",
        "model.add(Dense(1))\n",
        "\n",
        "model.compile(optimizer = 'adam', loss = 'mse')\n",
        "model.summary()"
      ],
      "execution_count": null,
      "outputs": [
        {
          "output_type": "stream",
          "text": [
            "Model: \"sequential\"\n",
            "_________________________________________________________________\n",
            "Layer (type)                 Output Shape              Param #   \n",
            "=================================================================\n",
            "lstm (LSTM)                  (None, 12, 50)            10800     \n",
            "_________________________________________________________________\n",
            "lstm_1 (LSTM)                (None, 50)                20200     \n",
            "_________________________________________________________________\n",
            "dense (Dense)                (None, 1)                 51        \n",
            "=================================================================\n",
            "Total params: 31,051\n",
            "Trainable params: 31,051\n",
            "Non-trainable params: 0\n",
            "_________________________________________________________________\n"
          ],
          "name": "stdout"
        }
      ]
    },
    {
      "cell_type": "code",
      "metadata": {
        "colab": {
          "base_uri": "https://localhost:8080/"
        },
        "id": "t4Ep39N2YwVI",
        "outputId": "e4d5e203-3b34-4828-a725-e4ddf690c203"
      },
      "source": [
        "history = model.fit(X, y, epochs=200)"
      ],
      "execution_count": null,
      "outputs": [
        {
          "output_type": "stream",
          "text": [
            "Epoch 1/200\n",
            "2/2 [==============================] - 2s 18ms/step - loss: 0.2144\n",
            "Epoch 2/200\n",
            "2/2 [==============================] - 0s 16ms/step - loss: 0.1808\n",
            "Epoch 3/200\n",
            "2/2 [==============================] - 0s 15ms/step - loss: 0.1507\n",
            "Epoch 4/200\n",
            "2/2 [==============================] - 0s 15ms/step - loss: 0.1221\n",
            "Epoch 5/200\n",
            "2/2 [==============================] - 0s 16ms/step - loss: 0.0928\n",
            "Epoch 6/200\n",
            "2/2 [==============================] - 0s 16ms/step - loss: 0.0662\n",
            "Epoch 7/200\n",
            "2/2 [==============================] - 0s 19ms/step - loss: 0.0434\n",
            "Epoch 8/200\n",
            "2/2 [==============================] - 0s 17ms/step - loss: 0.0276\n",
            "Epoch 9/200\n",
            "2/2 [==============================] - 0s 16ms/step - loss: 0.0270\n",
            "Epoch 10/200\n",
            "2/2 [==============================] - 0s 14ms/step - loss: 0.0381\n",
            "Epoch 11/200\n",
            "2/2 [==============================] - 0s 14ms/step - loss: 0.0415\n",
            "Epoch 12/200\n",
            "2/2 [==============================] - 0s 16ms/step - loss: 0.0348\n",
            "Epoch 13/200\n",
            "2/2 [==============================] - 0s 16ms/step - loss: 0.0276\n",
            "Epoch 14/200\n",
            "2/2 [==============================] - 0s 16ms/step - loss: 0.0250\n",
            "Epoch 15/200\n",
            "2/2 [==============================] - 0s 15ms/step - loss: 0.0260\n",
            "Epoch 16/200\n",
            "2/2 [==============================] - 0s 17ms/step - loss: 0.0275\n",
            "Epoch 17/200\n",
            "2/2 [==============================] - 0s 15ms/step - loss: 0.0286\n",
            "Epoch 18/200\n",
            "2/2 [==============================] - 0s 18ms/step - loss: 0.0283\n",
            "Epoch 19/200\n",
            "2/2 [==============================] - 0s 15ms/step - loss: 0.0271\n",
            "Epoch 20/200\n",
            "2/2 [==============================] - 0s 16ms/step - loss: 0.0257\n",
            "Epoch 21/200\n",
            "2/2 [==============================] - 0s 15ms/step - loss: 0.0246\n",
            "Epoch 22/200\n",
            "2/2 [==============================] - 0s 20ms/step - loss: 0.0244\n",
            "Epoch 23/200\n",
            "2/2 [==============================] - 0s 15ms/step - loss: 0.0244\n",
            "Epoch 24/200\n",
            "2/2 [==============================] - 0s 14ms/step - loss: 0.0247\n",
            "Epoch 25/200\n",
            "2/2 [==============================] - 0s 16ms/step - loss: 0.0244\n",
            "Epoch 26/200\n",
            "2/2 [==============================] - 0s 24ms/step - loss: 0.0235\n",
            "Epoch 27/200\n",
            "2/2 [==============================] - 0s 15ms/step - loss: 0.0233\n",
            "Epoch 28/200\n",
            "2/2 [==============================] - 0s 14ms/step - loss: 0.0227\n",
            "Epoch 29/200\n",
            "2/2 [==============================] - 0s 20ms/step - loss: 0.0226\n",
            "Epoch 30/200\n",
            "2/2 [==============================] - 0s 16ms/step - loss: 0.0222\n",
            "Epoch 31/200\n",
            "2/2 [==============================] - 0s 15ms/step - loss: 0.0217\n",
            "Epoch 32/200\n",
            "2/2 [==============================] - 0s 18ms/step - loss: 0.0211\n",
            "Epoch 33/200\n",
            "2/2 [==============================] - 0s 14ms/step - loss: 0.0207\n",
            "Epoch 34/200\n",
            "2/2 [==============================] - 0s 15ms/step - loss: 0.0203\n",
            "Epoch 35/200\n",
            "2/2 [==============================] - 0s 15ms/step - loss: 0.0199\n",
            "Epoch 36/200\n",
            "2/2 [==============================] - 0s 16ms/step - loss: 0.0193\n",
            "Epoch 37/200\n",
            "2/2 [==============================] - 0s 15ms/step - loss: 0.0187\n",
            "Epoch 38/200\n",
            "2/2 [==============================] - 0s 16ms/step - loss: 0.0181\n",
            "Epoch 39/200\n",
            "2/2 [==============================] - 0s 16ms/step - loss: 0.0176\n",
            "Epoch 40/200\n",
            "2/2 [==============================] - 0s 15ms/step - loss: 0.0169\n",
            "Epoch 41/200\n",
            "2/2 [==============================] - 0s 16ms/step - loss: 0.0166\n",
            "Epoch 42/200\n",
            "2/2 [==============================] - 0s 15ms/step - loss: 0.0158\n",
            "Epoch 43/200\n",
            "2/2 [==============================] - 0s 19ms/step - loss: 0.0151\n",
            "Epoch 44/200\n",
            "2/2 [==============================] - 0s 17ms/step - loss: 0.0146\n",
            "Epoch 45/200\n",
            "2/2 [==============================] - 0s 15ms/step - loss: 0.0139\n",
            "Epoch 46/200\n",
            "2/2 [==============================] - 0s 15ms/step - loss: 0.0133\n",
            "Epoch 47/200\n",
            "2/2 [==============================] - 0s 14ms/step - loss: 0.0127\n",
            "Epoch 48/200\n",
            "2/2 [==============================] - 0s 16ms/step - loss: 0.0122\n",
            "Epoch 49/200\n",
            "2/2 [==============================] - 0s 14ms/step - loss: 0.0118\n",
            "Epoch 50/200\n",
            "2/2 [==============================] - 0s 19ms/step - loss: 0.0116\n",
            "Epoch 51/200\n",
            "2/2 [==============================] - 0s 14ms/step - loss: 0.0106\n",
            "Epoch 52/200\n",
            "2/2 [==============================] - 0s 14ms/step - loss: 0.0102\n",
            "Epoch 53/200\n",
            "2/2 [==============================] - 0s 14ms/step - loss: 0.0099\n",
            "Epoch 54/200\n",
            "2/2 [==============================] - 0s 18ms/step - loss: 0.0093\n",
            "Epoch 55/200\n",
            "2/2 [==============================] - 0s 22ms/step - loss: 0.0092\n",
            "Epoch 56/200\n",
            "2/2 [==============================] - 0s 15ms/step - loss: 0.0088\n",
            "Epoch 57/200\n",
            "2/2 [==============================] - 0s 15ms/step - loss: 0.0087\n",
            "Epoch 58/200\n",
            "2/2 [==============================] - 0s 15ms/step - loss: 0.0087\n",
            "Epoch 59/200\n",
            "2/2 [==============================] - 0s 15ms/step - loss: 0.0083\n",
            "Epoch 60/200\n",
            "2/2 [==============================] - 0s 14ms/step - loss: 0.0082\n",
            "Epoch 61/200\n",
            "2/2 [==============================] - 0s 16ms/step - loss: 0.0081\n",
            "Epoch 62/200\n",
            "2/2 [==============================] - 0s 22ms/step - loss: 0.0082\n",
            "Epoch 63/200\n",
            "2/2 [==============================] - 0s 15ms/step - loss: 0.0080\n",
            "Epoch 64/200\n",
            "2/2 [==============================] - 0s 15ms/step - loss: 0.0076\n",
            "Epoch 65/200\n",
            "2/2 [==============================] - 0s 18ms/step - loss: 0.0076\n",
            "Epoch 66/200\n",
            "2/2 [==============================] - 0s 14ms/step - loss: 0.0074\n",
            "Epoch 67/200\n",
            "2/2 [==============================] - 0s 15ms/step - loss: 0.0074\n",
            "Epoch 68/200\n",
            "2/2 [==============================] - 0s 29ms/step - loss: 0.0078\n",
            "Epoch 69/200\n",
            "2/2 [==============================] - 0s 17ms/step - loss: 0.0072\n",
            "Epoch 70/200\n",
            "2/2 [==============================] - 0s 22ms/step - loss: 0.0072\n",
            "Epoch 71/200\n",
            "2/2 [==============================] - 0s 16ms/step - loss: 0.0070\n",
            "Epoch 72/200\n",
            "2/2 [==============================] - 0s 15ms/step - loss: 0.0070\n",
            "Epoch 73/200\n",
            "2/2 [==============================] - 0s 19ms/step - loss: 0.0069\n",
            "Epoch 74/200\n",
            "2/2 [==============================] - 0s 17ms/step - loss: 0.0070\n",
            "Epoch 75/200\n",
            "2/2 [==============================] - 0s 17ms/step - loss: 0.0067\n",
            "Epoch 76/200\n",
            "2/2 [==============================] - 0s 18ms/step - loss: 0.0068\n",
            "Epoch 77/200\n",
            "2/2 [==============================] - 0s 16ms/step - loss: 0.0068\n",
            "Epoch 78/200\n",
            "2/2 [==============================] - 0s 14ms/step - loss: 0.0068\n",
            "Epoch 79/200\n",
            "2/2 [==============================] - 0s 19ms/step - loss: 0.0065\n",
            "Epoch 80/200\n",
            "2/2 [==============================] - 0s 14ms/step - loss: 0.0064\n",
            "Epoch 81/200\n",
            "2/2 [==============================] - 0s 18ms/step - loss: 0.0064\n",
            "Epoch 82/200\n",
            "2/2 [==============================] - 0s 15ms/step - loss: 0.0063\n",
            "Epoch 83/200\n",
            "2/2 [==============================] - 0s 15ms/step - loss: 0.0063\n",
            "Epoch 84/200\n",
            "2/2 [==============================] - 0s 15ms/step - loss: 0.0061\n",
            "Epoch 85/200\n",
            "2/2 [==============================] - 0s 15ms/step - loss: 0.0062\n",
            "Epoch 86/200\n",
            "2/2 [==============================] - 0s 18ms/step - loss: 0.0061\n",
            "Epoch 87/200\n",
            "2/2 [==============================] - 0s 16ms/step - loss: 0.0061\n",
            "Epoch 88/200\n",
            "2/2 [==============================] - 0s 15ms/step - loss: 0.0059\n",
            "Epoch 89/200\n",
            "2/2 [==============================] - 0s 16ms/step - loss: 0.0058\n",
            "Epoch 90/200\n",
            "2/2 [==============================] - 0s 16ms/step - loss: 0.0057\n",
            "Epoch 91/200\n",
            "2/2 [==============================] - 0s 19ms/step - loss: 0.0057\n",
            "Epoch 92/200\n",
            "2/2 [==============================] - 0s 16ms/step - loss: 0.0056\n",
            "Epoch 93/200\n",
            "2/2 [==============================] - 0s 20ms/step - loss: 0.0056\n",
            "Epoch 94/200\n",
            "2/2 [==============================] - 0s 15ms/step - loss: 0.0056\n",
            "Epoch 95/200\n",
            "2/2 [==============================] - 0s 15ms/step - loss: 0.0055\n",
            "Epoch 96/200\n",
            "2/2 [==============================] - 0s 18ms/step - loss: 0.0055\n",
            "Epoch 97/200\n",
            "2/2 [==============================] - 0s 16ms/step - loss: 0.0053\n",
            "Epoch 98/200\n",
            "2/2 [==============================] - 0s 15ms/step - loss: 0.0053\n",
            "Epoch 99/200\n",
            "2/2 [==============================] - 0s 15ms/step - loss: 0.0053\n",
            "Epoch 100/200\n",
            "2/2 [==============================] - 0s 18ms/step - loss: 0.0050\n",
            "Epoch 101/200\n",
            "2/2 [==============================] - 0s 15ms/step - loss: 0.0053\n",
            "Epoch 102/200\n",
            "2/2 [==============================] - 0s 15ms/step - loss: 0.0050\n",
            "Epoch 103/200\n",
            "2/2 [==============================] - 0s 19ms/step - loss: 0.0051\n",
            "Epoch 104/200\n",
            "2/2 [==============================] - 0s 20ms/step - loss: 0.0051\n",
            "Epoch 105/200\n",
            "2/2 [==============================] - 0s 19ms/step - loss: 0.0050\n",
            "Epoch 106/200\n",
            "2/2 [==============================] - 0s 20ms/step - loss: 0.0049\n",
            "Epoch 107/200\n",
            "2/2 [==============================] - 0s 19ms/step - loss: 0.0047\n",
            "Epoch 108/200\n",
            "2/2 [==============================] - 0s 25ms/step - loss: 0.0047\n",
            "Epoch 109/200\n",
            "2/2 [==============================] - 0s 26ms/step - loss: 0.0047\n",
            "Epoch 110/200\n",
            "2/2 [==============================] - 0s 17ms/step - loss: 0.0045\n",
            "Epoch 111/200\n",
            "2/2 [==============================] - 0s 19ms/step - loss: 0.0046\n",
            "Epoch 112/200\n",
            "2/2 [==============================] - 0s 16ms/step - loss: 0.0046\n",
            "Epoch 113/200\n",
            "2/2 [==============================] - 0s 15ms/step - loss: 0.0044\n",
            "Epoch 114/200\n",
            "2/2 [==============================] - 0s 15ms/step - loss: 0.0046\n",
            "Epoch 115/200\n",
            "2/2 [==============================] - 0s 15ms/step - loss: 0.0044\n",
            "Epoch 116/200\n",
            "2/2 [==============================] - 0s 23ms/step - loss: 0.0046\n",
            "Epoch 117/200\n",
            "2/2 [==============================] - 0s 16ms/step - loss: 0.0043\n",
            "Epoch 118/200\n",
            "2/2 [==============================] - 0s 16ms/step - loss: 0.0045\n",
            "Epoch 119/200\n",
            "2/2 [==============================] - 0s 16ms/step - loss: 0.0041\n",
            "Epoch 120/200\n",
            "2/2 [==============================] - 0s 18ms/step - loss: 0.0048\n",
            "Epoch 121/200\n",
            "2/2 [==============================] - 0s 19ms/step - loss: 0.0048\n",
            "Epoch 122/200\n",
            "2/2 [==============================] - 0s 15ms/step - loss: 0.0042\n",
            "Epoch 123/200\n",
            "2/2 [==============================] - 0s 15ms/step - loss: 0.0053\n",
            "Epoch 124/200\n",
            "2/2 [==============================] - 0s 16ms/step - loss: 0.0041\n",
            "Epoch 125/200\n",
            "2/2 [==============================] - 0s 18ms/step - loss: 0.0052\n",
            "Epoch 126/200\n",
            "2/2 [==============================] - 0s 16ms/step - loss: 0.0041\n",
            "Epoch 127/200\n",
            "2/2 [==============================] - 0s 19ms/step - loss: 0.0051\n",
            "Epoch 128/200\n",
            "2/2 [==============================] - 0s 15ms/step - loss: 0.0044\n",
            "Epoch 129/200\n",
            "2/2 [==============================] - 0s 20ms/step - loss: 0.0048\n",
            "Epoch 130/200\n",
            "2/2 [==============================] - 0s 20ms/step - loss: 0.0042\n",
            "Epoch 131/200\n",
            "2/2 [==============================] - 0s 18ms/step - loss: 0.0040\n",
            "Epoch 132/200\n",
            "2/2 [==============================] - 0s 15ms/step - loss: 0.0041\n",
            "Epoch 133/200\n",
            "2/2 [==============================] - 0s 15ms/step - loss: 0.0040\n",
            "Epoch 134/200\n",
            "2/2 [==============================] - 0s 18ms/step - loss: 0.0039\n",
            "Epoch 135/200\n",
            "2/2 [==============================] - 0s 16ms/step - loss: 0.0038\n",
            "Epoch 136/200\n",
            "2/2 [==============================] - 0s 18ms/step - loss: 0.0037\n",
            "Epoch 137/200\n",
            "2/2 [==============================] - 0s 23ms/step - loss: 0.0036\n",
            "Epoch 138/200\n",
            "2/2 [==============================] - 0s 14ms/step - loss: 0.0038\n",
            "Epoch 139/200\n",
            "2/2 [==============================] - 0s 16ms/step - loss: 0.0037\n",
            "Epoch 140/200\n",
            "2/2 [==============================] - 0s 21ms/step - loss: 0.0037\n",
            "Epoch 141/200\n",
            "2/2 [==============================] - 0s 16ms/step - loss: 0.0035\n",
            "Epoch 142/200\n",
            "2/2 [==============================] - 0s 20ms/step - loss: 0.0035\n",
            "Epoch 143/200\n",
            "2/2 [==============================] - 0s 17ms/step - loss: 0.0034\n",
            "Epoch 144/200\n",
            "2/2 [==============================] - 0s 15ms/step - loss: 0.0036\n",
            "Epoch 145/200\n",
            "2/2 [==============================] - 0s 16ms/step - loss: 0.0036\n",
            "Epoch 146/200\n",
            "2/2 [==============================] - 0s 16ms/step - loss: 0.0034\n",
            "Epoch 147/200\n",
            "2/2 [==============================] - 0s 16ms/step - loss: 0.0034\n",
            "Epoch 148/200\n",
            "2/2 [==============================] - 0s 16ms/step - loss: 0.0033\n",
            "Epoch 149/200\n",
            "2/2 [==============================] - 0s 17ms/step - loss: 0.0033\n",
            "Epoch 150/200\n",
            "2/2 [==============================] - 0s 15ms/step - loss: 0.0034\n",
            "Epoch 151/200\n",
            "2/2 [==============================] - 0s 16ms/step - loss: 0.0033\n",
            "Epoch 152/200\n",
            "2/2 [==============================] - 0s 15ms/step - loss: 0.0036\n",
            "Epoch 153/200\n",
            "2/2 [==============================] - 0s 17ms/step - loss: 0.0032\n",
            "Epoch 154/200\n",
            "2/2 [==============================] - 0s 16ms/step - loss: 0.0034\n",
            "Epoch 155/200\n",
            "2/2 [==============================] - 0s 17ms/step - loss: 0.0036\n",
            "Epoch 156/200\n",
            "2/2 [==============================] - 0s 16ms/step - loss: 0.0032\n",
            "Epoch 157/200\n",
            "2/2 [==============================] - 0s 16ms/step - loss: 0.0037\n",
            "Epoch 158/200\n",
            "2/2 [==============================] - 0s 18ms/step - loss: 0.0035\n",
            "Epoch 159/200\n",
            "2/2 [==============================] - 0s 15ms/step - loss: 0.0036\n",
            "Epoch 160/200\n",
            "2/2 [==============================] - 0s 16ms/step - loss: 0.0035\n",
            "Epoch 161/200\n",
            "2/2 [==============================] - 0s 23ms/step - loss: 0.0031\n",
            "Epoch 162/200\n",
            "2/2 [==============================] - 0s 15ms/step - loss: 0.0031\n",
            "Epoch 163/200\n",
            "2/2 [==============================] - 0s 16ms/step - loss: 0.0032\n",
            "Epoch 164/200\n",
            "2/2 [==============================] - 0s 21ms/step - loss: 0.0031\n",
            "Epoch 165/200\n",
            "2/2 [==============================] - 0s 16ms/step - loss: 0.0032\n",
            "Epoch 166/200\n",
            "2/2 [==============================] - 0s 16ms/step - loss: 0.0031\n",
            "Epoch 167/200\n",
            "2/2 [==============================] - 0s 15ms/step - loss: 0.0031\n",
            "Epoch 168/200\n",
            "2/2 [==============================] - 0s 16ms/step - loss: 0.0030\n",
            "Epoch 169/200\n",
            "2/2 [==============================] - 0s 27ms/step - loss: 0.0033\n",
            "Epoch 170/200\n",
            "2/2 [==============================] - 0s 16ms/step - loss: 0.0029\n",
            "Epoch 171/200\n",
            "2/2 [==============================] - 0s 15ms/step - loss: 0.0032\n",
            "Epoch 172/200\n",
            "2/2 [==============================] - 0s 15ms/step - loss: 0.0030\n",
            "Epoch 173/200\n",
            "2/2 [==============================] - 0s 20ms/step - loss: 0.0030\n",
            "Epoch 174/200\n",
            "2/2 [==============================] - 0s 16ms/step - loss: 0.0032\n",
            "Epoch 175/200\n",
            "2/2 [==============================] - 0s 16ms/step - loss: 0.0029\n",
            "Epoch 176/200\n",
            "2/2 [==============================] - 0s 17ms/step - loss: 0.0033\n",
            "Epoch 177/200\n",
            "2/2 [==============================] - 0s 16ms/step - loss: 0.0028\n",
            "Epoch 178/200\n",
            "2/2 [==============================] - 0s 15ms/step - loss: 0.0030\n",
            "Epoch 179/200\n",
            "2/2 [==============================] - 0s 14ms/step - loss: 0.0030\n",
            "Epoch 180/200\n",
            "2/2 [==============================] - 0s 15ms/step - loss: 0.0029\n",
            "Epoch 181/200\n",
            "2/2 [==============================] - 0s 16ms/step - loss: 0.0031\n",
            "Epoch 182/200\n",
            "2/2 [==============================] - 0s 16ms/step - loss: 0.0028\n",
            "Epoch 183/200\n",
            "2/2 [==============================] - 0s 19ms/step - loss: 0.0031\n",
            "Epoch 184/200\n",
            "2/2 [==============================] - 0s 15ms/step - loss: 0.0029\n",
            "Epoch 185/200\n",
            "2/2 [==============================] - 0s 17ms/step - loss: 0.0030\n",
            "Epoch 186/200\n",
            "2/2 [==============================] - 0s 16ms/step - loss: 0.0028\n",
            "Epoch 187/200\n",
            "2/2 [==============================] - 0s 15ms/step - loss: 0.0030\n",
            "Epoch 188/200\n",
            "2/2 [==============================] - 0s 16ms/step - loss: 0.0032\n",
            "Epoch 189/200\n",
            "2/2 [==============================] - 0s 17ms/step - loss: 0.0029\n",
            "Epoch 190/200\n",
            "2/2 [==============================] - 0s 16ms/step - loss: 0.0033\n",
            "Epoch 191/200\n",
            "2/2 [==============================] - 0s 28ms/step - loss: 0.0030\n",
            "Epoch 192/200\n",
            "2/2 [==============================] - 0s 16ms/step - loss: 0.0029\n",
            "Epoch 193/200\n",
            "2/2 [==============================] - 0s 15ms/step - loss: 0.0030\n",
            "Epoch 194/200\n",
            "2/2 [==============================] - 0s 19ms/step - loss: 0.0029\n",
            "Epoch 195/200\n",
            "2/2 [==============================] - 0s 16ms/step - loss: 0.0028\n",
            "Epoch 196/200\n",
            "2/2 [==============================] - 0s 16ms/step - loss: 0.0028\n",
            "Epoch 197/200\n",
            "2/2 [==============================] - 0s 16ms/step - loss: 0.0026\n",
            "Epoch 198/200\n",
            "2/2 [==============================] - 0s 20ms/step - loss: 0.0027\n",
            "Epoch 199/200\n",
            "2/2 [==============================] - 0s 16ms/step - loss: 0.0026\n",
            "Epoch 200/200\n",
            "2/2 [==============================] - 0s 16ms/step - loss: 0.0027\n"
          ],
          "name": "stdout"
        }
      ]
    },
    {
      "cell_type": "code",
      "metadata": {
        "colab": {
          "base_uri": "https://localhost:8080/",
          "height": 296
        },
        "id": "kjXn2dhRnErR",
        "outputId": "d3076e26-d661-4bf8-f9e9-82d80ac46a74"
      },
      "source": [
        "losses_lstm = model.history.history['loss']\n",
        "plt.figure(figsize=(20,4))\n",
        "plt.xlabel(\"Epochs\")\n",
        "plt.ylabel(\"Loss\")\n",
        "plt.xticks(np.arange(0,201,1))\n",
        "plt.plot(range(len(losses_lstm)),losses_lstm)"
      ],
      "execution_count": null,
      "outputs": [
        {
          "output_type": "execute_result",
          "data": {
            "text/plain": [
              "[<matplotlib.lines.Line2D at 0x7f63caa97290>]"
            ]
          },
          "metadata": {
            "tags": []
          },
          "execution_count": 17
        },
        {
          "output_type": "display_data",
          "data": {
            "image/png": "[encoded data removed]",
            "text/plain": [
              "<Figure size 1440x288 with 1 Axes>"
            ]
          },
          "metadata": {
            "tags": [],
            "needs_background": "light"
          }
        }
      ]
    },
    {
      "cell_type": "code",
      "metadata": {
        "colab": {
          "base_uri": "https://localhost:8080/"
        },
        "id": "YNyiIV-0hQLD",
        "outputId": "b9802ba9-c7c9-4850-9afa-9dcca3667e9f"
      },
      "source": [
        "scaled_test"
      ],
      "execution_count": null,
      "outputs": [
        {
          "output_type": "execute_result",
          "data": {
            "text/plain": [
              "array([[0.86771723, 1.01673893, 0.3592535 ],\n",
              "       [0.71095729, 0.94619629, 0.42534992],\n",
              "       [0.78222386, 0.88153099, 0.76749611],\n",
              "       [0.59932253, 0.86587246, 1.04043546],\n",
              "       [0.55929308, 0.91319379, 1.01010886],\n",
              "       [0.64879234, 0.89458217, 0.65863142],\n",
              "       [0.69066274, 0.86071537, 0.62752722],\n",
              "       [0.40029455, 0.81608781, 0.72706065],\n",
              "       [0.36661267, 0.81530993, 0.55287714],\n",
              "       [0.58119293, 0.85845374, 0.53265941],\n",
              "       [0.93824742, 0.90586151, 0.59253499],\n",
              "       [1.18899853, 0.96727121, 0.39346812]])"
            ]
          },
          "metadata": {
            "tags": []
          },
          "execution_count": 18
        }
      ]
    },
    {
      "cell_type": "code",
      "metadata": {
        "id": "QwvVQEfruSN6"
      },
      "source": [
        "lstm_predictions_scaled = []\n",
        "\n",
        "batch = scaled_train[-n_steps:]   # The last 12 observations in scaled_train\n",
        "current_batch = batch.reshape((1, n_steps, n_features))\n",
        "\n",
        "for i in range(len(test)):\n",
        "  lstm_pred = model.predict(current_batch)[0]           # Predict values for tourism, currency, and temperature\n",
        "  lstm_predictions_scaled.append(lstm_pred)\n",
        "  imd_pred = np.append(lstm_pred, scaled_test[i][1:3])\n",
        "  current_batch=np.append(current_batch[:,1:,:], [[imd_pred]], axis=1)"
      ],
      "execution_count": null,
      "outputs": []
    },
    {
      "cell_type": "code",
      "metadata": {
        "colab": {
          "base_uri": "https://localhost:8080/"
        },
        "id": "LnfBkAa1-LDR",
        "outputId": "2318aa59-55c5-40d6-d5f2-25d3a866b904"
      },
      "source": [
        "lstm_predictions_scaled"
      ],
      "execution_count": null,
      "outputs": [
        {
          "output_type": "execute_result",
          "data": {
            "text/plain": [
              "[array([0.9707191], dtype=float32),\n",
              " array([0.8496591], dtype=float32),\n",
              " array([0.780139], dtype=float32),\n",
              " array([0.7504163], dtype=float32),\n",
              " array([0.7543902], dtype=float32),\n",
              " array([0.78307164], dtype=float32),\n",
              " array([0.7964469], dtype=float32),\n",
              " array([0.82490414], dtype=float32),\n",
              " array([0.76001287], dtype=float32),\n",
              " array([0.6668567], dtype=float32),\n",
              " array([0.4679225], dtype=float32),\n",
              " array([0.09569746], dtype=float32)]"
            ]
          },
          "metadata": {
            "tags": []
          },
          "execution_count": 20
        }
      ]
    },
    {
      "cell_type": "code",
      "metadata": {
        "colab": {
          "base_uri": "https://localhost:8080/"
        },
        "id": "YsuRGfB68xXU",
        "outputId": "ee2c70d1-19ba-4c71-da62-fecc29d88fb1"
      },
      "source": [
        "current_batch_reshaped = np.array(current_batch).reshape((n_steps, n_features))\n",
        "current_batch_reshaped"
      ],
      "execution_count": null,
      "outputs": [
        {
          "output_type": "execute_result",
          "data": {
            "text/plain": [
              "array([[0.9707191 , 1.01673893, 0.3592535 ],\n",
              "       [0.84965909, 0.94619629, 0.42534992],\n",
              "       [0.78013903, 0.88153099, 0.76749611],\n",
              "       [0.75041628, 0.86587246, 1.04043546],\n",
              "       [0.75439018, 0.91319379, 1.01010886],\n",
              "       [0.78307164, 0.89458217, 0.65863142],\n",
              "       [0.79644692, 0.86071537, 0.62752722],\n",
              "       [0.82490414, 0.81608781, 0.72706065],\n",
              "       [0.76001287, 0.81530993, 0.55287714],\n",
              "       [0.66685671, 0.85845374, 0.53265941],\n",
              "       [0.46792251, 0.90586151, 0.59253499],\n",
              "       [0.09569746, 0.96727121, 0.39346812]])"
            ]
          },
          "metadata": {
            "tags": []
          },
          "execution_count": 21
        }
      ]
    },
    {
      "cell_type": "code",
      "metadata": {
        "colab": {
          "base_uri": "https://localhost:8080/"
        },
        "id": "4FWStS-X7daj",
        "outputId": "a9223038-bbdc-4765-8bcb-cbcda1306084"
      },
      "source": [
        "lstm_predictions = scaler.inverse_transform(current_batch_reshaped)[:,0]\n",
        "lstm_predictions"
      ],
      "execution_count": null,
      "outputs": [
        {
          "output_type": "execute_result",
          "data": {
            "text/plain": [
              "array([99972.82682514, 91752.85189009, 87032.44007087, 85014.26533318,\n",
              "       85284.09322953, 87231.56416273, 88139.74583006, 90071.99136472,\n",
              "       85665.87353802, 79340.57034707, 65832.93834186, 40558.85720184])"
            ]
          },
          "metadata": {
            "tags": []
          },
          "execution_count": 22
        }
      ]
    },
    {
      "cell_type": "code",
      "metadata": {
        "colab": {
          "base_uri": "https://localhost:8080/"
        },
        "id": "7oyI2GnD-lZ9",
        "outputId": "7ac392c5-b888-45b0-ab7b-914276392f08"
      },
      "source": [
        "test['LSTM_Tourists_Predictions'] = lstm_predictions\n",
        "test"
      ],
      "execution_count": null,
      "outputs": [
        {
          "output_type": "execute_result",
          "data": {
            "text/html": [
              "<div>\n",
              "<style scoped>\n",
              "    .dataframe tbody tr th:only-of-type {\n",
              "        vertical-align: middle;\n",
              "    }\n",
              "\n",
              "    .dataframe tbody tr th {\n",
              "        vertical-align: top;\n",
              "    }\n",
              "\n",
              "    .dataframe thead th {\n",
              "        text-align: right;\n",
              "    }\n",
              "</style>\n",
              "<table border=\"1\" class=\"dataframe\">\n",
              "  <thead>\n",
              "    <tr style=\"text-align: right;\">\n",
              "      <th></th>\n",
              "      <th>tourists</th>\n",
              "      <th>average exchange rate (Convert 1 USD to Thai baht)</th>\n",
              "      <th>average temperature - Bangkok (F)</th>\n",
              "      <th>LSTM_Tourists_Predictions</th>\n",
              "    </tr>\n",
              "    <tr>\n",
              "      <th>Month</th>\n",
              "      <th></th>\n",
              "      <th></th>\n",
              "      <th></th>\n",
              "      <th></th>\n",
              "    </tr>\n",
              "  </thead>\n",
              "  <tbody>\n",
              "    <tr>\n",
              "      <th>2016-01-01</th>\n",
              "      <td>92979</td>\n",
              "      <td>36.1284</td>\n",
              "      <td>81.17</td>\n",
              "      <td>99972.826825</td>\n",
              "    </tr>\n",
              "    <tr>\n",
              "      <th>2016-02-01</th>\n",
              "      <td>82335</td>\n",
              "      <td>35.6387</td>\n",
              "      <td>82.02</td>\n",
              "      <td>91752.851890</td>\n",
              "    </tr>\n",
              "    <tr>\n",
              "      <th>2016-03-01</th>\n",
              "      <td>87174</td>\n",
              "      <td>35.1898</td>\n",
              "      <td>86.42</td>\n",
              "      <td>87032.440071</td>\n",
              "    </tr>\n",
              "    <tr>\n",
              "      <th>2016-04-01</th>\n",
              "      <td>74755</td>\n",
              "      <td>35.0811</td>\n",
              "      <td>89.93</td>\n",
              "      <td>85014.265333</td>\n",
              "    </tr>\n",
              "    <tr>\n",
              "      <th>2016-05-01</th>\n",
              "      <td>72037</td>\n",
              "      <td>35.4096</td>\n",
              "      <td>89.54</td>\n",
              "      <td>85284.093230</td>\n",
              "    </tr>\n",
              "    <tr>\n",
              "      <th>2016-06-01</th>\n",
              "      <td>78114</td>\n",
              "      <td>35.2804</td>\n",
              "      <td>85.02</td>\n",
              "      <td>87231.564163</td>\n",
              "    </tr>\n",
              "    <tr>\n",
              "      <th>2016-07-01</th>\n",
              "      <td>80957</td>\n",
              "      <td>35.0453</td>\n",
              "      <td>84.62</td>\n",
              "      <td>88139.745830</td>\n",
              "    </tr>\n",
              "    <tr>\n",
              "      <th>2016-08-01</th>\n",
              "      <td>61241</td>\n",
              "      <td>34.7355</td>\n",
              "      <td>85.90</td>\n",
              "      <td>90071.991365</td>\n",
              "    </tr>\n",
              "    <tr>\n",
              "      <th>2016-09-01</th>\n",
              "      <td>58954</td>\n",
              "      <td>34.7301</td>\n",
              "      <td>83.66</td>\n",
              "      <td>85665.873538</td>\n",
              "    </tr>\n",
              "    <tr>\n",
              "      <th>2016-10-01</th>\n",
              "      <td>73524</td>\n",
              "      <td>35.0296</td>\n",
              "      <td>83.40</td>\n",
              "      <td>79340.570347</td>\n",
              "    </tr>\n",
              "    <tr>\n",
              "      <th>2016-11-01</th>\n",
              "      <td>97768</td>\n",
              "      <td>35.3587</td>\n",
              "      <td>84.17</td>\n",
              "      <td>65832.938342</td>\n",
              "    </tr>\n",
              "    <tr>\n",
              "      <th>2016-12-01</th>\n",
              "      <td>114794</td>\n",
              "      <td>35.7850</td>\n",
              "      <td>81.61</td>\n",
              "      <td>40558.857202</td>\n",
              "    </tr>\n",
              "  </tbody>\n",
              "</table>\n",
              "</div>"
            ],
            "text/plain": [
              "            tourists  ...  LSTM_Tourists_Predictions\n",
              "Month                 ...                           \n",
              "2016-01-01     92979  ...               99972.826825\n",
              "2016-02-01     82335  ...               91752.851890\n",
              "2016-03-01     87174  ...               87032.440071\n",
              "2016-04-01     74755  ...               85014.265333\n",
              "2016-05-01     72037  ...               85284.093230\n",
              "2016-06-01     78114  ...               87231.564163\n",
              "2016-07-01     80957  ...               88139.745830\n",
              "2016-08-01     61241  ...               90071.991365\n",
              "2016-09-01     58954  ...               85665.873538\n",
              "2016-10-01     73524  ...               79340.570347\n",
              "2016-11-01     97768  ...               65832.938342\n",
              "2016-12-01    114794  ...               40558.857202\n",
              "\n",
              "[12 rows x 4 columns]"
            ]
          },
          "metadata": {
            "tags": []
          },
          "execution_count": 23
        }
      ]
    },
    {
      "cell_type": "code",
      "metadata": {
        "colab": {
          "base_uri": "https://localhost:8080/",
          "height": 362
        },
        "id": "TNWm_4Gho6lj",
        "outputId": "9024e137-e84e-419b-a8c6-827fe7b0fa0e"
      },
      "source": [
        "test.tourists.plot(figsize = (16,5), legend = True)\n",
        "test.LSTM_Tourists_Predictions.plot(legend = True)"
      ],
      "execution_count": null,
      "outputs": [
        {
          "output_type": "execute_result",
          "data": {
            "text/plain": [
              "<matplotlib.axes._subplots.AxesSubplot at 0x7f63ca86f750>"
            ]
          },
          "metadata": {
            "tags": []
          },
          "execution_count": 24
        },
        {
          "output_type": "display_data",
          "data": {
            "image/png": "[encoded data removed]",
            "text/plain": [
              "<Figure size 1152x360 with 1 Axes>"
            ]
          },
          "metadata": {
            "tags": [],
            "needs_background": "light"
          }
        }
      ]
    },
    {
      "cell_type": "code",
      "metadata": {
        "colab": {
          "base_uri": "https://localhost:8080/"
        },
        "id": "2RJCWiOlpTzq",
        "outputId": "61c3e384-0f37-4e3d-cefc-73c209c777a6"
      },
      "source": [
        "lstm_rmse_error = mean_squared_error(test.tourists, test.LSTM_Tourists_Predictions, squared=False)\n",
        "lstm_mse_error = mean_squared_error(test.tourists, test.LSTM_Tourists_Predictions)\n",
        "lstm_mape_error = mean_absolute_percentage_error(test.tourists, test.LSTM_Tourists_Predictions)\n",
        "\n",
        "print(f'MSE Error: {lstm_mse_error}\\nRMSE Error: {lstm_rmse_error}\\nMAPE Error: {lstm_mape_error}')"
      ],
      "execution_count": null,
      "outputs": [
        {
          "output_type": "stream",
          "text": [
            "MSE Error: 721864728.0153555\n",
            "RMSE Error: 26867.54041618539\n",
            "MAPE Error: 22.450945303770766\n"
          ],
          "name": "stdout"
        }
      ]
    }
  ]
}