{
  "nbformat": 4,
  "nbformat_minor": 0,
  "metadata": {
    "colab": {
      "name": "LSTM_Univariate_Thailand_Tourism_jejiang.ipynb",
      "provenance": []
    },
    "kernelspec": {
      "name": "python3",
      "display_name": "Python 3"
    },
    "language_info": {
      "name": "python"
    }
  },
  "cells": [
    {
      "cell_type": "code",
      "metadata": {
        "id": "CQNKeynLLm1w"
      },
      "source": [
        "import numpy as np\n",
        "import pandas as pd\n",
        "import matplotlib.pyplot as plt\n",
        "\n",
        "from sklearn.preprocessing import MinMaxScaler\n",
        "from keras.preprocessing.sequence import TimeseriesGenerator\n",
        "from keras.models import Sequential\n",
        "from keras.layers import Dense\n",
        "from keras.layers import LSTM\n",
        "from sklearn.metrics import mean_squared_error\n",
        "from keras.metrics import mean_absolute_percentage_error"
      ],
      "execution_count": 23,
      "outputs": []
    },
    {
      "cell_type": "code",
      "metadata": {
        "colab": {
          "base_uri": "https://localhost:8080/"
        },
        "id": "47N6LrIIGIbC",
        "outputId": "8ec35bdb-3e9b-43d9-b341-fd5f704bd5ee"
      },
      "source": [
        "from google.colab import drive\n",
        "drive.mount('/content/drive')"
      ],
      "execution_count": 2,
      "outputs": [
        {
          "output_type": "stream",
          "text": [
            "Drive already mounted at /content/drive; to attempt to forcibly remount, call drive.mount(\"/content/drive\", force_remount=True).\n"
          ],
          "name": "stdout"
        }
      ]
    },
    {
      "cell_type": "markdown",
      "metadata": {
        "id": "CI6EwTNMOU8m"
      },
      "source": [
        "Univariate Time Series - LSTM"
      ]
    },
    {
      "cell_type": "code",
      "metadata": {
        "colab": {
          "base_uri": "https://localhost:8080/",
          "height": 205
        },
        "id": "rWt0czDJOTpj",
        "outputId": "881910f6-77c3-4cfb-ae57-cd937ddf3b03"
      },
      "source": [
        "# Load data\n",
        "df = pd.read_csv('/content/drive/MyDrive/31006-ts/Data/thaitourism2.csv')\n",
        "df.head()"
      ],
      "execution_count": 3,
      "outputs": [
        {
          "output_type": "execute_result",
          "data": {
            "text/html": [
              "<div>\n",
              "<style scoped>\n",
              "    .dataframe tbody tr th:only-of-type {\n",
              "        vertical-align: middle;\n",
              "    }\n",
              "\n",
              "    .dataframe tbody tr th {\n",
              "        vertical-align: top;\n",
              "    }\n",
              "\n",
              "    .dataframe thead th {\n",
              "        text-align: right;\n",
              "    }\n",
              "</style>\n",
              "<table border=\"1\" class=\"dataframe\">\n",
              "  <thead>\n",
              "    <tr style=\"text-align: right;\">\n",
              "      <th></th>\n",
              "      <th>region</th>\n",
              "      <th>nationality</th>\n",
              "      <th>year</th>\n",
              "      <th>month</th>\n",
              "      <th>tourists</th>\n",
              "    </tr>\n",
              "  </thead>\n",
              "  <tbody>\n",
              "    <tr>\n",
              "      <th>0</th>\n",
              "      <td>Africa</td>\n",
              "      <td>AfrOthers</td>\n",
              "      <td>2010</td>\n",
              "      <td>1</td>\n",
              "      <td>6553</td>\n",
              "    </tr>\n",
              "    <tr>\n",
              "      <th>1</th>\n",
              "      <td>Africa</td>\n",
              "      <td>AfrOthers</td>\n",
              "      <td>2010</td>\n",
              "      <td>2</td>\n",
              "      <td>5618</td>\n",
              "    </tr>\n",
              "    <tr>\n",
              "      <th>2</th>\n",
              "      <td>Africa</td>\n",
              "      <td>AfrOthers</td>\n",
              "      <td>2010</td>\n",
              "      <td>3</td>\n",
              "      <td>6689</td>\n",
              "    </tr>\n",
              "    <tr>\n",
              "      <th>3</th>\n",
              "      <td>Africa</td>\n",
              "      <td>AfrOthers</td>\n",
              "      <td>2010</td>\n",
              "      <td>4</td>\n",
              "      <td>5210</td>\n",
              "    </tr>\n",
              "    <tr>\n",
              "      <th>4</th>\n",
              "      <td>Africa</td>\n",
              "      <td>AfrOthers</td>\n",
              "      <td>2010</td>\n",
              "      <td>5</td>\n",
              "      <td>4537</td>\n",
              "    </tr>\n",
              "  </tbody>\n",
              "</table>\n",
              "</div>"
            ],
            "text/plain": [
              "   region nationality  year  month  tourists\n",
              "0  Africa   AfrOthers  2010      1      6553\n",
              "1  Africa   AfrOthers  2010      2      5618\n",
              "2  Africa   AfrOthers  2010      3      6689\n",
              "3  Africa   AfrOthers  2010      4      5210\n",
              "4  Africa   AfrOthers  2010      5      4537"
            ]
          },
          "metadata": {
            "tags": []
          },
          "execution_count": 3
        }
      ]
    },
    {
      "cell_type": "code",
      "metadata": {
        "colab": {
          "base_uri": "https://localhost:8080/",
          "height": 237
        },
        "id": "khTmF7oZOTny",
        "outputId": "7c25a197-6ee2-4214-d7e1-7ada8fb6134a"
      },
      "source": [
        "# Set date as the index of the data frame\n",
        "df['Month'] = pd.to_datetime(df.year.astype(str) + '/' + df.month.astype(str))\n",
        "df = df.set_index('Month')\n",
        "df_us = df[df.nationality == 'USA']\n",
        "df_us.head()"
      ],
      "execution_count": 4,
      "outputs": [
        {
          "output_type": "execute_result",
          "data": {
            "text/html": [
              "<div>\n",
              "<style scoped>\n",
              "    .dataframe tbody tr th:only-of-type {\n",
              "        vertical-align: middle;\n",
              "    }\n",
              "\n",
              "    .dataframe tbody tr th {\n",
              "        vertical-align: top;\n",
              "    }\n",
              "\n",
              "    .dataframe thead th {\n",
              "        text-align: right;\n",
              "    }\n",
              "</style>\n",
              "<table border=\"1\" class=\"dataframe\">\n",
              "  <thead>\n",
              "    <tr style=\"text-align: right;\">\n",
              "      <th></th>\n",
              "      <th>region</th>\n",
              "      <th>nationality</th>\n",
              "      <th>year</th>\n",
              "      <th>month</th>\n",
              "      <th>tourists</th>\n",
              "    </tr>\n",
              "    <tr>\n",
              "      <th>Month</th>\n",
              "      <th></th>\n",
              "      <th></th>\n",
              "      <th></th>\n",
              "      <th></th>\n",
              "      <th></th>\n",
              "    </tr>\n",
              "  </thead>\n",
              "  <tbody>\n",
              "    <tr>\n",
              "      <th>2010-01-01</th>\n",
              "      <td>Americas</td>\n",
              "      <td>USA</td>\n",
              "      <td>2010</td>\n",
              "      <td>1</td>\n",
              "      <td>69238</td>\n",
              "    </tr>\n",
              "    <tr>\n",
              "      <th>2010-02-01</th>\n",
              "      <td>Americas</td>\n",
              "      <td>USA</td>\n",
              "      <td>2010</td>\n",
              "      <td>2</td>\n",
              "      <td>58901</td>\n",
              "    </tr>\n",
              "    <tr>\n",
              "      <th>2010-03-01</th>\n",
              "      <td>Americas</td>\n",
              "      <td>USA</td>\n",
              "      <td>2010</td>\n",
              "      <td>3</td>\n",
              "      <td>59667</td>\n",
              "    </tr>\n",
              "    <tr>\n",
              "      <th>2010-04-01</th>\n",
              "      <td>Americas</td>\n",
              "      <td>USA</td>\n",
              "      <td>2010</td>\n",
              "      <td>4</td>\n",
              "      <td>49775</td>\n",
              "    </tr>\n",
              "    <tr>\n",
              "      <th>2010-05-01</th>\n",
              "      <td>Americas</td>\n",
              "      <td>USA</td>\n",
              "      <td>2010</td>\n",
              "      <td>5</td>\n",
              "      <td>34061</td>\n",
              "    </tr>\n",
              "  </tbody>\n",
              "</table>\n",
              "</div>"
            ],
            "text/plain": [
              "              region nationality  year  month  tourists\n",
              "Month                                                  \n",
              "2010-01-01  Americas         USA  2010      1     69238\n",
              "2010-02-01  Americas         USA  2010      2     58901\n",
              "2010-03-01  Americas         USA  2010      3     59667\n",
              "2010-04-01  Americas         USA  2010      4     49775\n",
              "2010-05-01  Americas         USA  2010      5     34061"
            ]
          },
          "metadata": {
            "tags": []
          },
          "execution_count": 4
        }
      ]
    },
    {
      "cell_type": "code",
      "metadata": {
        "colab": {
          "base_uri": "https://localhost:8080/",
          "height": 350
        },
        "id": "_vunz9a9OTle",
        "outputId": "fcd7cd96-03c6-4093-9188-19df8a8bc7dc"
      },
      "source": [
        "# Convert index to Datetime Index and plot the time series data\n",
        "df_us.index.freq = 'MS'\n",
        "ax = df_us['tourists'].plot(figsize = (16,5), title = \"Number of USA Tourists Visiting Thailand per month\")\n",
        "ax.set(xlabel='Dates', ylabel='Number of Tourists');"
      ],
      "execution_count": 5,
      "outputs": [
        {
          "output_type": "display_data",
          "data": {
            "image/png": "[encoded data removed]",
            "text/plain": [
              "<Figure size 1152x360 with 1 Axes>"
            ]
          },
          "metadata": {
            "tags": [],
            "needs_background": "light"
          }
        }
      ]
    },
    {
      "cell_type": "code",
      "metadata": {
        "colab": {
          "base_uri": "https://localhost:8080/"
        },
        "id": "nYIbZOTHxMmA",
        "outputId": "3f99aaaf-86ff-4d64-f9d1-a1b9626846e5"
      },
      "source": [
        "df_sub = df_us[['tourists']]\n",
        "df_sub.shape"
      ],
      "execution_count": 6,
      "outputs": [
        {
          "output_type": "execute_result",
          "data": {
            "text/plain": [
              "(84, 1)"
            ]
          },
          "metadata": {
            "tags": []
          },
          "execution_count": 6
        }
      ]
    },
    {
      "cell_type": "code",
      "metadata": {
        "id": "j0PrHSTUOTaS"
      },
      "source": [
        "# train and test split\n",
        "train = df_sub[:len(df_sub)-12].copy()\n",
        "test = df_sub[len(df_sub)-12:].copy()"
      ],
      "execution_count": 7,
      "outputs": []
    },
    {
      "cell_type": "code",
      "metadata": {
        "id": "v48UVjubOTYQ"
      },
      "source": [
        "# Normalize the data\n",
        "scaler = MinMaxScaler()\n",
        "\n",
        "scaler.fit(train)\n",
        "scaled_train = scaler.transform(train)\n",
        "scaled_test = scaler.transform(test)"
      ],
      "execution_count": 8,
      "outputs": []
    },
    {
      "cell_type": "code",
      "metadata": {
        "id": "UgjutD_yK5uq"
      },
      "source": [
        "n_input = 12\n",
        "n_features = 1\n",
        "generator = TimeseriesGenerator(scaled_train, scaled_train, length=n_input, batch_size=1)"
      ],
      "execution_count": null,
      "outputs": []
    },
    {
      "cell_type": "code",
      "metadata": {
        "colab": {
          "base_uri": "https://localhost:8080/"
        },
        "id": "hDKluOiTL8jy",
        "outputId": "52e90ebe-6284-4d74-8613-a2b95a2be444"
      },
      "source": [
        "scaled_train[0:15]"
      ],
      "execution_count": 20,
      "outputs": [
        {
          "output_type": "execute_result",
          "data": {
            "text/plain": [
              "array([[0.51807069],\n",
              "       [0.36583211],\n",
              "       [0.3771134 ],\n",
              "       [0.23142857],\n",
              "       [0.        ],\n",
              "       [0.07253314],\n",
              "       [0.17051546],\n",
              "       [0.08110457],\n",
              "       [0.08182622],\n",
              "       [0.259838  ],\n",
              "       [0.35930781],\n",
              "       [0.47300442],\n",
              "       [0.53658321],\n",
              "       [0.35460972],\n",
              "       [0.38562592]])"
            ]
          },
          "metadata": {
            "tags": []
          },
          "execution_count": 20
        }
      ]
    },
    {
      "cell_type": "code",
      "metadata": {
        "colab": {
          "base_uri": "https://localhost:8080/"
        },
        "id": "mFHoZtwNK6gn",
        "outputId": "3859658b-a67d-4a4d-c20c-8875ef9da112"
      },
      "source": [
        "for i in range(len(generator))[0:2]:\n",
        "    x, y = generator[i]\n",
        "    print(x, y)"
      ],
      "execution_count": 19,
      "outputs": [
        {
          "output_type": "stream",
          "text": [
            "[[[0.51807069]\n",
            "  [0.36583211]\n",
            "  [0.3771134 ]\n",
            "  [0.23142857]\n",
            "  [0.        ]\n",
            "  [0.07253314]\n",
            "  [0.17051546]\n",
            "  [0.08110457]\n",
            "  [0.08182622]\n",
            "  [0.259838  ]\n",
            "  [0.35930781]\n",
            "  [0.47300442]]] [[0.53658321]]\n",
            "[[[0.36583211]\n",
            "  [0.3771134 ]\n",
            "  [0.23142857]\n",
            "  [0.        ]\n",
            "  [0.07253314]\n",
            "  [0.17051546]\n",
            "  [0.08110457]\n",
            "  [0.08182622]\n",
            "  [0.259838  ]\n",
            "  [0.35930781]\n",
            "  [0.47300442]\n",
            "  [0.53658321]]] [[0.35460972]]\n"
          ],
          "name": "stdout"
        }
      ]
    },
    {
      "cell_type": "code",
      "metadata": {
        "colab": {
          "base_uri": "https://localhost:8080/"
        },
        "id": "Dyy9MXd9OTWP",
        "outputId": "c95e83f7-0d2f-43fc-9d08-40b149d4bef5"
      },
      "source": [
        "lstm_model = Sequential()\n",
        "lstm_model.add(LSTM(50, activation='relu', input_shape=(n_input, n_features)))\n",
        "lstm_model.add(Dense(1))\n",
        "lstm_model.compile(optimizer='adam', loss='mse')\n",
        "\n",
        "lstm_model.summary()"
      ],
      "execution_count": 9,
      "outputs": [
        {
          "output_type": "stream",
          "text": [
            "Model: \"sequential\"\n",
            "_________________________________________________________________\n",
            "Layer (type)                 Output Shape              Param #   \n",
            "=================================================================\n",
            "lstm (LSTM)                  (None, 50)                10400     \n",
            "_________________________________________________________________\n",
            "dense (Dense)                (None, 1)                 51        \n",
            "=================================================================\n",
            "Total params: 10,451\n",
            "Trainable params: 10,451\n",
            "Non-trainable params: 0\n",
            "_________________________________________________________________\n"
          ],
          "name": "stdout"
        }
      ]
    },
    {
      "cell_type": "code",
      "metadata": {
        "colab": {
          "base_uri": "https://localhost:8080/"
        },
        "id": "iZxfe8qdOTLC",
        "outputId": "f1645045-c8b4-44d3-8eeb-7795549fed26"
      },
      "source": [
        "lstm_model.fit(generator,epochs=100, verbose = 0)"
      ],
      "execution_count": 10,
      "outputs": [
        {
          "output_type": "execute_result",
          "data": {
            "text/plain": [
              "<keras.callbacks.History at 0x7f96c0c60d90>"
            ]
          },
          "metadata": {
            "tags": []
          },
          "execution_count": 10
        }
      ]
    },
    {
      "cell_type": "code",
      "metadata": {
        "colab": {
          "base_uri": "https://localhost:8080/",
          "height": 296
        },
        "id": "aYgya0hQOS-5",
        "outputId": "afe79782-e067-49d2-fcc0-3626ad928755"
      },
      "source": [
        "losses_lstm = lstm_model.history.history['loss']\n",
        "plt.figure(figsize=(20,4))\n",
        "plt.xlabel(\"Epochs\")\n",
        "plt.ylabel(\"Loss\")\n",
        "plt.xticks(np.arange(0,101,1))\n",
        "plt.plot(range(len(losses_lstm)),losses_lstm)"
      ],
      "execution_count": 11,
      "outputs": [
        {
          "output_type": "execute_result",
          "data": {
            "text/plain": [
              "[<matplotlib.lines.Line2D at 0x7f96baa772d0>]"
            ]
          },
          "metadata": {
            "tags": []
          },
          "execution_count": 11
        },
        {
          "output_type": "display_data",
          "data": {
            "image/png": "[encoded data removed]",
            "text/plain": [
              "<Figure size 1440x288 with 1 Axes>"
            ]
          },
          "metadata": {
            "tags": [],
            "needs_background": "light"
          }
        }
      ]
    },
    {
      "cell_type": "code",
      "metadata": {
        "colab": {
          "base_uri": "https://localhost:8080/"
        },
        "id": "68W0m27kRMHl",
        "outputId": "68854272-df27-49e0-8318-ba62e3b2f2b6"
      },
      "source": [
        "scaled_train[-12:]"
      ],
      "execution_count": 34,
      "outputs": [
        {
          "output_type": "execute_result",
          "data": {
            "text/plain": [
              "array([[0.69303387],\n",
              "       [0.55749632],\n",
              "       [0.59814433],\n",
              "       [0.49173785],\n",
              "       [0.43954345],\n",
              "       [0.4982327 ],\n",
              "       [0.5330486 ],\n",
              "       [0.32443299],\n",
              "       [0.53911635],\n",
              "       [0.53911635],\n",
              "       [0.80506627],\n",
              "       [1.        ]])"
            ]
          },
          "metadata": {
            "tags": []
          },
          "execution_count": 34
        }
      ]
    },
    {
      "cell_type": "code",
      "metadata": {
        "id": "fMEQNFlcOS6e"
      },
      "source": [
        "lstm_predictions_scaled = []\n",
        "\n",
        "batch = scaled_train[-n_input:]   # The last 12 observations in scaled_train\n",
        "current_batch = batch.reshape((1, n_input, n_features))\n",
        "\n",
        "for i in range(len(test)):\n",
        "  lstm_pred = lstm_model.predict(current_batch)[0]\n",
        "  lstm_predictions_scaled.append(lstm_pred)\n",
        "  current_batch=np.append(current_batch[:,1:,:], [[lstm_pred]], axis=1)"
      ],
      "execution_count": 35,
      "outputs": []
    },
    {
      "cell_type": "code",
      "metadata": {
        "colab": {
          "base_uri": "https://localhost:8080/"
        },
        "id": "dW52i_3hQAVC",
        "outputId": "9ae9c1fa-1b1e-4e59-df65-89d61b1708a8"
      },
      "source": [
        "for i in range(len(test):\n",
        "  lstm_pred = lstmbatch.reshape((1, n_input, n_features))"
      ],
      "execution_count": 30,
      "outputs": [
        {
          "output_type": "execute_result",
          "data": {
            "text/plain": [
              "array([[[0.69303387],\n",
              "        [0.55749632],\n",
              "        [0.59814433],\n",
              "        [0.49173785],\n",
              "        [0.43954345],\n",
              "        [0.4982327 ],\n",
              "        [0.5330486 ],\n",
              "        [0.32443299],\n",
              "        [0.53911635],\n",
              "        [0.53911635],\n",
              "        [0.80506627],\n",
              "        [1.        ]]])"
            ]
          },
          "metadata": {
            "tags": []
          },
          "execution_count": 30
        }
      ]
    },
    {
      "cell_type": "code",
      "metadata": {
        "colab": {
          "base_uri": "https://localhost:8080/"
        },
        "id": "j3pcmGM6OSna",
        "outputId": "18b77073-d6e5-4f3a-d89b-8f6e38c6ca57"
      },
      "source": [
        "lstm_predictions = scaler.inverse_transform(lstm_predictions_scaled)\n",
        "lstm_predictions"
      ],
      "execution_count": 13,
      "outputs": [
        {
          "output_type": "execute_result",
          "data": {
            "text/plain": [
              "array([[ 91256.73539495],\n",
              "       [ 82375.2164886 ],\n",
              "       [ 77580.63649988],\n",
              "       [ 71287.47581697],\n",
              "       [ 68131.71045637],\n",
              "       [ 69303.56834388],\n",
              "       [ 69403.15264916],\n",
              "       [ 66473.88633943],\n",
              "       [ 71901.71663618],\n",
              "       [ 84422.17459536],\n",
              "       [102039.66860628],\n",
              "       [116785.48732853]])"
            ]
          },
          "metadata": {
            "tags": []
          },
          "execution_count": 13
        }
      ]
    },
    {
      "cell_type": "code",
      "metadata": {
        "colab": {
          "base_uri": "https://localhost:8080/",
          "height": 456
        },
        "id": "Ey3W-EptOSV3",
        "outputId": "b355be87-118d-4e14-d384-785ad9fa9b2a"
      },
      "source": [
        "test['LSTM_Uni_Predictions'] = lstm_predictions\n",
        "test"
      ],
      "execution_count": 14,
      "outputs": [
        {
          "output_type": "execute_result",
          "data": {
            "text/html": [
              "<div>\n",
              "<style scoped>\n",
              "    .dataframe tbody tr th:only-of-type {\n",
              "        vertical-align: middle;\n",
              "    }\n",
              "\n",
              "    .dataframe tbody tr th {\n",
              "        vertical-align: top;\n",
              "    }\n",
              "\n",
              "    .dataframe thead th {\n",
              "        text-align: right;\n",
              "    }\n",
              "</style>\n",
              "<table border=\"1\" class=\"dataframe\">\n",
              "  <thead>\n",
              "    <tr style=\"text-align: right;\">\n",
              "      <th></th>\n",
              "      <th>tourists</th>\n",
              "      <th>LSTM_Uni_Predictions</th>\n",
              "    </tr>\n",
              "    <tr>\n",
              "      <th>Month</th>\n",
              "      <th></th>\n",
              "      <th></th>\n",
              "    </tr>\n",
              "  </thead>\n",
              "  <tbody>\n",
              "    <tr>\n",
              "      <th>2016-01-01</th>\n",
              "      <td>92979</td>\n",
              "      <td>91256.735395</td>\n",
              "    </tr>\n",
              "    <tr>\n",
              "      <th>2016-02-01</th>\n",
              "      <td>82335</td>\n",
              "      <td>82375.216489</td>\n",
              "    </tr>\n",
              "    <tr>\n",
              "      <th>2016-03-01</th>\n",
              "      <td>87174</td>\n",
              "      <td>77580.636500</td>\n",
              "    </tr>\n",
              "    <tr>\n",
              "      <th>2016-04-01</th>\n",
              "      <td>74755</td>\n",
              "      <td>71287.475817</td>\n",
              "    </tr>\n",
              "    <tr>\n",
              "      <th>2016-05-01</th>\n",
              "      <td>72037</td>\n",
              "      <td>68131.710456</td>\n",
              "    </tr>\n",
              "    <tr>\n",
              "      <th>2016-06-01</th>\n",
              "      <td>78114</td>\n",
              "      <td>69303.568344</td>\n",
              "    </tr>\n",
              "    <tr>\n",
              "      <th>2016-07-01</th>\n",
              "      <td>80957</td>\n",
              "      <td>69403.152649</td>\n",
              "    </tr>\n",
              "    <tr>\n",
              "      <th>2016-08-01</th>\n",
              "      <td>61241</td>\n",
              "      <td>66473.886339</td>\n",
              "    </tr>\n",
              "    <tr>\n",
              "      <th>2016-09-01</th>\n",
              "      <td>58954</td>\n",
              "      <td>71901.716636</td>\n",
              "    </tr>\n",
              "    <tr>\n",
              "      <th>2016-10-01</th>\n",
              "      <td>73524</td>\n",
              "      <td>84422.174595</td>\n",
              "    </tr>\n",
              "    <tr>\n",
              "      <th>2016-11-01</th>\n",
              "      <td>97768</td>\n",
              "      <td>102039.668606</td>\n",
              "    </tr>\n",
              "    <tr>\n",
              "      <th>2016-12-01</th>\n",
              "      <td>114794</td>\n",
              "      <td>116785.487329</td>\n",
              "    </tr>\n",
              "  </tbody>\n",
              "</table>\n",
              "</div>"
            ],
            "text/plain": [
              "            tourists  LSTM_Uni_Predictions\n",
              "Month                                     \n",
              "2016-01-01     92979          91256.735395\n",
              "2016-02-01     82335          82375.216489\n",
              "2016-03-01     87174          77580.636500\n",
              "2016-04-01     74755          71287.475817\n",
              "2016-05-01     72037          68131.710456\n",
              "2016-06-01     78114          69303.568344\n",
              "2016-07-01     80957          69403.152649\n",
              "2016-08-01     61241          66473.886339\n",
              "2016-09-01     58954          71901.716636\n",
              "2016-10-01     73524          84422.174595\n",
              "2016-11-01     97768         102039.668606\n",
              "2016-12-01    114794         116785.487329"
            ]
          },
          "metadata": {
            "tags": []
          },
          "execution_count": 14
        }
      ]
    },
    {
      "cell_type": "code",
      "metadata": {
        "colab": {
          "base_uri": "https://localhost:8080/",
          "height": 362
        },
        "id": "XSiLR7PdOSP0",
        "outputId": "04dab09f-5fbc-4fc0-abff-7b519bd21786"
      },
      "source": [
        "test.tourists.plot(figsize = (16,5), legend = True)\n",
        "test.LSTM_Uni_Predictions.plot(legend = True)"
      ],
      "execution_count": 15,
      "outputs": [
        {
          "output_type": "execute_result",
          "data": {
            "text/plain": [
              "<matplotlib.axes._subplots.AxesSubplot at 0x7f96c0d11e50>"
            ]
          },
          "metadata": {
            "tags": []
          },
          "execution_count": 15
        },
        {
          "output_type": "display_data",
          "data": {
            "image/png": "[encoded data removed]",
            "text/plain": [
              "<Figure size 1152x360 with 1 Axes>"
            ]
          },
          "metadata": {
            "tags": [],
            "needs_background": "light"
          }
        }
      ]
    },
    {
      "cell_type": "code",
      "metadata": {
        "colab": {
          "base_uri": "https://localhost:8080/"
        },
        "id": "P0e238J4OSMn",
        "outputId": "e1630b5c-4548-4e6b-edf4-87484e82fd17"
      },
      "source": [
        "lstm_rmse_error = mean_squared_error(test.tourists, test.LSTM_Uni_Predictions, squared=False)\n",
        "lstm_mse_error = mean_squared_error(test.tourists, test.LSTM_Uni_Predictions)\n",
        "lstm_mape_error = mean_absolute_percentage_error(test.tourists, test.LSTM_Uni_Predictions)\n",
        "\n",
        "print(f'MSE Error: {lstm_mse_error}\\nRMSE Error: {lstm_rmse_error}\\nMAPE Error: {lstm_mape_error}')"
      ],
      "execution_count": 24,
      "outputs": [
        {
          "output_type": "stream",
          "text": [
            "MSE Error: 55783365.86990858\n",
            "RMSE Error: 7468.826271236236\n",
            "MAPE Error: 8.329171587832592\n"
          ],
          "name": "stdout"
        }
      ]
    },
    {
      "cell_type": "code",
      "metadata": {
        "id": "Y2A4WkxyOSJr"
      },
      "source": [
        ""
      ],
      "execution_count": 16,
      "outputs": []
    }
  ]
}